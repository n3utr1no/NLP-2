{
  "cells": [
    {
      "cell_type": "markdown",
      "metadata": {
        "id": "Lrdc9EHKdHCA"
      },
      "source": [
        "# Assignment 2: Naive Bayes\n",
        "Welcome to week two of this specialization. You will learn about Naive Bayes. Concretely, you will be using Naive Bayes for sentiment analysis on tweets. Given a tweet, you will decide if it has a positive sentiment or a negative one. Specifically you will:\n",
        "\n",
        "* Train a naive bayes model on a sentiment analysis task\n",
        "* Test using your model\n",
        "* Compute ratios of positive words to negative words\n",
        "* Do some error analysis\n",
        "* Predict on your own tweet\n",
        "\n",
        "You may already be familiar with Naive Bayes and its justification in terms of conditional probabilities and independence.\n",
        "* In this week's lectures and assignments we used the ratio of probabilities between positive and negative sentiments.\n",
        "* This approach gives us simpler formulas for these 2-way classification tasks.\n",
        "\n",
        "Load the cell below to import some packages.\n",
        "You  may want to browse the documentation of unfamiliar libraries and functions."
      ]
    },
    {
      "cell_type": "code",
      "execution_count": 2,
      "metadata": {
        "id": "0pF9fG67dHCC"
      },
      "outputs": [],
      "source": [
        "from utils import process_tweet, lookup\n",
        "import pdb\n",
        "from nltk.corpus import stopwords, twitter_samples\n",
        "import numpy as np\n",
        "import pandas as pd\n",
        "import nltk\n",
        "import string\n",
        "from nltk.tokenize import TweetTokenizer\n",
        "from os import getcwd"
      ]
    },
    {
      "cell_type": "code",
      "source": [
        "nltk.download('stopwords')\n",
        "nltk.download('twitter_samples')"
      ],
      "metadata": {
        "colab": {
          "base_uri": "https://localhost:8080/"
        },
        "id": "zKrFP-nGdMcV",
        "outputId": "66947e2a-5ef7-40a9-d488-af33999ee57e"
      },
      "execution_count": 3,
      "outputs": [
        {
          "output_type": "stream",
          "name": "stderr",
          "text": [
            "[nltk_data] Downloading package stopwords to /root/nltk_data...\n",
            "[nltk_data]   Unzipping corpora/stopwords.zip.\n",
            "[nltk_data] Downloading package twitter_samples to /root/nltk_data...\n",
            "[nltk_data]   Unzipping corpora/twitter_samples.zip.\n"
          ]
        },
        {
          "output_type": "execute_result",
          "data": {
            "text/plain": [
              "True"
            ]
          },
          "metadata": {},
          "execution_count": 3
        }
      ]
    },
    {
      "cell_type": "code",
      "execution_count": 4,
      "metadata": {
        "id": "BbUe4peIdHCD"
      },
      "outputs": [],
      "source": [
        "# add folder, tmp2, from our local workspace containing pre-downloaded corpora files to nltk's data path\n",
        "filePath = f\"{getcwd()}/../tmp2/\"\n",
        "nltk.data.path.append(filePath)"
      ]
    },
    {
      "cell_type": "code",
      "execution_count": 5,
      "metadata": {
        "id": "n2n2JF8HdHCD"
      },
      "outputs": [],
      "source": [
        "# get the sets of positive and negative tweets\n",
        "all_positive_tweets = twitter_samples.strings('positive_tweets.json')\n",
        "all_negative_tweets = twitter_samples.strings('negative_tweets.json')\n",
        "\n",
        "# split the data into two pieces, one for training and one for testing (validation set)\n",
        "test_pos = all_positive_tweets[4000:]\n",
        "train_pos = all_positive_tweets[:4000]\n",
        "test_neg = all_negative_tweets[4000:]\n",
        "train_neg = all_negative_tweets[:4000]\n",
        "\n",
        "train_x = train_pos + train_neg\n",
        "test_x = test_pos + test_neg\n",
        "\n",
        "# avoid assumptions about the length of all_positive_tweets\n",
        "train_y = np.append(np.ones(len(train_pos)), np.zeros(len(train_neg)))\n",
        "test_y = np.append(np.ones(len(test_pos)), np.zeros(len(test_neg)))"
      ]
    },
    {
      "cell_type": "markdown",
      "metadata": {
        "id": "dVOB5TAedHCD"
      },
      "source": [
        "# Part 1: Process the Data\n",
        "\n",
        "For any machine learning project, once you've gathered the data, the first step is to process it to make useful inputs to your model.\n",
        "- **Remove noise**: You will first want to remove noise from your data -- that is, remove words that don't tell you much about the content. These include all common words like 'I, you, are, is, etc...' that would not give us enough information on the sentiment.\n",
        "- We'll also remove stock market tickers, retweet symbols, hyperlinks, and hashtags because they can not tell you a lot of information on the sentiment.\n",
        "- You also want to remove all the punctuation from a tweet. The reason for doing this is because we want to treat words with or without the punctuation as the same word, instead of treating \"happy\", \"happy?\", \"happy!\", \"happy,\" and \"happy.\" as different words.\n",
        "- Finally you want to use stemming to only keep track of one variation of each word. In other words, we'll treat \"motivation\", \"motivated\", and \"motivate\" similarly by grouping them within the same stem of \"motiv-\".\n",
        "\n",
        "We have given you the function `process_tweet()` that does this for you."
      ]
    },
    {
      "cell_type": "code",
      "execution_count": 6,
      "metadata": {
        "colab": {
          "base_uri": "https://localhost:8080/"
        },
        "id": "xANGPGppdHCD",
        "outputId": "4b3a9acf-2db4-41d9-b102-87d942f93728"
      },
      "outputs": [
        {
          "output_type": "stream",
          "name": "stdout",
          "text": [
            "['hello', 'great', 'day', ':)', 'good', 'morn']\n"
          ]
        }
      ],
      "source": [
        "custom_tweet = \"RT @Twitter @chapagain Hello There! Have a great day. :) #good #morning http://chapagain.com.np\"\n",
        "\n",
        "# print cleaned tweet\n",
        "print(process_tweet(custom_tweet))"
      ]
    },
    {
      "cell_type": "markdown",
      "metadata": {
        "id": "HXHSKzY2dHCD"
      },
      "source": [
        "## Part 1.1 Implementing your helper functions\n",
        "\n",
        "To help train your naive bayes model, you will need to build a dictionary where the keys are a (word, label) tuple and the values are the corresponding frequency.  Note that the labels we'll use here are 1 for positive and 0 for negative.\n",
        "\n",
        "You will also implement a `lookup()` helper function that takes in the `freqs` dictionary, a word, and a label (1 or 0) and returns the number of times that word and label tuple appears in the collection of tweets.\n",
        "\n",
        "For example: given a list of tweets `[\"i am rather excited\", \"you are rather happy\"]` and the label 1, the function will return a dictionary that contains the following key-value pairs:\n",
        "\n",
        "{\n",
        "    (\"rather\", 1): 2\n",
        "    (\"happi\", 1) : 1\n",
        "    (\"excit\", 1) : 1\n",
        "}\n",
        "\n",
        "- Notice how for each word in the given string, the same label 1 is assigned to each word.\n",
        "- Notice how the words \"i\" and \"am\" are not saved, since it was removed by process_tweet because it is a stopword.\n",
        "- Notice how the word \"rather\" appears twice in the list of tweets, and so its count value is 2.\n",
        "\n",
        "#### Instructions\n",
        "Create a function `count_tweets()` that takes a list of tweets as input, cleans all of them, and returns a dictionary.\n",
        "- The key in the dictionary is a tuple containing the stemmed word and its class label, e.g. (\"happi\",1).\n",
        "- The value the number of times this word appears in the given collection of tweets (an integer)."
      ]
    },
    {
      "cell_type": "markdown",
      "metadata": {
        "id": "4WkMML4GdHCE"
      },
      "source": [
        "<details>\n",
        "<summary>\n",
        "    <font size=\"3\" color=\"darkgreen\"><b>Hints</b></font>\n",
        "</summary>\n",
        "<p>\n",
        "<ul>\n",
        "    <li>Please use the `process_tweet` function that was imported above, and then store the words in their respective dictionaries and sets.</li>\n",
        "    <li>You may find it useful to use the `zip` function to match each element in `tweets` with each element in `ys`.</li>\n",
        "    <li>Remember to check if the key in the dictionary exists before adding that key to the dictionary, or incrementing its value.</li>\n",
        "    <li>Assume that the `result` dictionary that is input will contain clean key-value pairs (you can assume that the values will be integers that can be incremented).  It is good practice to check the datatype before incrementing the value, but it's not required here.</li>\n",
        "</ul>\n",
        "</p>"
      ]
    },
    {
      "cell_type": "code",
      "execution_count": 9,
      "metadata": {
        "id": "c99dR-X5dHCE"
      },
      "outputs": [],
      "source": [
        "# UNQ_C1 (UNIQUE CELL IDENTIFIER, DO NOT EDIT)\n",
        "def count_tweets(result, tweets, ys):\n",
        "    '''\n",
        "    Input:\n",
        "        result: a dictionary that will be used to map each pair to its frequency\n",
        "        tweets: a list of tweets\n",
        "        ys: a list corresponding to the sentiment of each tweet (either 0 or 1)\n",
        "    Output:\n",
        "        result: a dictionary mapping each pair to its frequency\n",
        "    '''\n",
        "\n",
        "    ### START CODE HERE (REPLACE INSTANCES OF 'None' with your code) ###\n",
        "    for y, tweet in zip(ys, tweets):\n",
        "        for word in process_tweet(tweet):\n",
        "            # define the key, which is the word and label tuple\n",
        "            pair = (word,y)\n",
        "\n",
        "            # if the key exists in the dictionary, increment the count\n",
        "            if pair in result:\n",
        "                result[pair] += 1\n",
        "\n",
        "            # else, if the key is new, add it to the dictionary and set the count to 1\n",
        "            else:\n",
        "                result[pair] = 1\n",
        "    ### END CODE HERE ###\n",
        "\n",
        "    return result"
      ]
    },
    {
      "cell_type": "code",
      "execution_count": 10,
      "metadata": {
        "colab": {
          "base_uri": "https://localhost:8080/"
        },
        "id": "5RTLBFyPdHCE",
        "outputId": "63c78155-cad3-4cac-d102-908fc0828ea2"
      },
      "outputs": [
        {
          "output_type": "execute_result",
          "data": {
            "text/plain": [
              "{('happi', 1): 1, ('trick', 0): 1, ('sad', 0): 1, ('tire', 0): 2}"
            ]
          },
          "metadata": {},
          "execution_count": 10
        }
      ],
      "source": [
        "# Testing your function\n",
        "\n",
        "\n",
        "result = {}\n",
        "tweets = ['i am happy', 'i am tricked', 'i am sad', 'i am tired', 'i am tired']\n",
        "ys = [1, 0, 0, 0, 0]\n",
        "count_tweets(result, tweets, ys)"
      ]
    },
    {
      "cell_type": "markdown",
      "metadata": {
        "id": "GzxTimTddHCE"
      },
      "source": [
        "**Expected Output**: {('happi', 1): 1, ('trick', 0): 1, ('sad', 0): 1, ('tire', 0): 2}"
      ]
    },
    {
      "cell_type": "markdown",
      "metadata": {
        "id": "AX3mbr80dHCE"
      },
      "source": [
        "# Part 2: Train your model using Naive Bayes\n",
        "\n",
        "Naive bayes is an algorithm that could be used for sentiment analysis. It takes a short time to train and also has a short prediction time.\n",
        "\n",
        "#### So how do you train a Naive Bayes classifier?\n",
        "- The first part of training a naive bayes classifier is to identify the number of classes that you have.\n",
        "- You will create a probability for each class.\n",
        "$P(D_{pos})$ is the probability that the document is positive.\n",
        "$P(D_{neg})$ is the probability that the document is negative.\n",
        "Use the formulas as follows and store the values in a dictionary:\n",
        "\n",
        "$$P(D_{pos}) = \\frac{D_{pos}}{D}\\tag{1}$$\n",
        "\n",
        "$$P(D_{neg}) = \\frac{D_{neg}}{D}\\tag{2}$$\n",
        "\n",
        "Where $D$ is the total number of documents, or tweets in this case, $D_{pos}$ is the total number of positive tweets and $D_{neg}$ is the total number of negative tweets."
      ]
    },
    {
      "cell_type": "markdown",
      "metadata": {
        "id": "PB40PdEgdHCF"
      },
      "source": [
        "#### Prior and Logprior\n",
        "\n",
        "The prior probability represents the underlying probability in the target population that a tweet is positive versus negative.  In other words, if we had no specific information and blindly picked a tweet out of the population set, what is the probability that it will be positive versus that it will be negative? That is the \"prior\".\n",
        "\n",
        "The prior is the ratio of the probabilities $\\frac{P(D_{pos})}{P(D_{neg})}$.\n",
        "We can take the log of the prior to rescale it, and we'll call this the logprior\n",
        "\n",
        "$$\\text{logprior} = log \\left( \\frac{P(D_{pos})}{P(D_{neg})} \\right) = log \\left( \\frac{D_{pos}}{D_{neg}} \\right)$$.\n",
        "\n",
        "Note that $log(\\frac{A}{B})$ is the same as $log(A) - log(B)$.  So the logprior can also be calculated as the difference between two logs:\n",
        "\n",
        "$$\\text{logprior} = \\log (P(D_{pos})) - \\log (P(D_{neg})) = \\log (D_{pos}) - \\log (D_{neg})\\tag{3}$$"
      ]
    },
    {
      "cell_type": "markdown",
      "metadata": {
        "id": "nwcZYypkdHCF"
      },
      "source": [
        "#### Positive and Negative Probability of a Word\n",
        "To compute the positive probability and the negative probability for a specific word in the vocabulary, we'll use the following inputs:\n",
        "\n",
        "- $freq_{pos}$ and $freq_{neg}$ are the frequencies of that specific word in the positive or negative class. In other words, the positive frequency of a word is the number of times the word is counted with the label of 1.\n",
        "- $N_{pos}$ and $N_{neg}$ are the total number of positive and negative words for all documents (for all tweets), respectively.\n",
        "- $V$ is the number of unique words in the entire set of documents, for all classes, whether positive or negative.\n",
        "\n",
        "We'll use these to compute the positive and negative probability for a specific word using this formula:\n",
        "\n",
        "$$ P(W_{pos}) = \\frac{freq_{pos} + 1}{N_{pos} + V}\\tag{4} $$\n",
        "$$ P(W_{neg}) = \\frac{freq_{neg} + 1}{N_{neg} + V}\\tag{5} $$\n",
        "\n",
        "Notice that we add the \"+1\" in the numerator for additive smoothing.  This [wiki article](https://en.wikipedia.org/wiki/Additive_smoothing) explains more about additive smoothing."
      ]
    },
    {
      "cell_type": "markdown",
      "metadata": {
        "id": "FxDnQ_cEdHCF"
      },
      "source": [
        "#### Log likelihood\n",
        "To compute the loglikelihood of that very same word, we can implement the following equations:\n",
        "\n",
        "$$\\text{loglikelihood} = \\log \\left(\\frac{P(W_{pos})}{P(W_{neg})} \\right)\\tag{6}$$"
      ]
    },
    {
      "cell_type": "markdown",
      "metadata": {
        "id": "yKBmU8ZIdHCF"
      },
      "source": [
        "##### Create `freqs` dictionary\n",
        "- Given your `count_tweets()` function, you can compute a dictionary called `freqs` that contains all the frequencies.\n",
        "- In this `freqs` dictionary, the key is the tuple (word, label)\n",
        "- The value is the number of times it has appeared.\n",
        "\n",
        "We will use this dictionary in several parts of this assignment."
      ]
    },
    {
      "cell_type": "code",
      "execution_count": 11,
      "metadata": {
        "id": "-GNZ-L96dHCF"
      },
      "outputs": [],
      "source": [
        "# Build the freqs dictionary for later uses\n",
        "\n",
        "freqs = count_tweets({}, train_x, train_y)"
      ]
    },
    {
      "cell_type": "markdown",
      "metadata": {
        "id": "sbHrKRDNdHCF"
      },
      "source": [
        "#### Instructions\n",
        "Given a freqs dictionary, `train_x` (a list of tweets) and a `train_y` (a list of labels for each tweet), implement a naive bayes classifier.\n",
        "\n",
        "##### Calculate $V$\n",
        "- You can then compute the number of unique words that appear in the `freqs` dictionary to get your $V$ (you can use the `set` function).\n",
        "\n",
        "##### Calculate $freq_{pos}$ and $freq_{neg}$\n",
        "- Using your `freqs` dictionary, you can compute the positive and negative frequency of each word $freq_{pos}$ and $freq_{neg}$.\n",
        "\n",
        "##### Calculate $N_{pos}$ and $N_{neg}$\n",
        "- Using `freqs` dictionary, you can also compute the total number of positive words and total number of negative words $N_{pos}$ and $N_{neg}$.\n",
        "\n",
        "##### Calculate $D$, $D_{pos}$, $D_{neg}$\n",
        "- Using the `train_y` input list of labels, calculate the number of documents (tweets) $D$, as well as the number of positive documents (tweets) $D_{pos}$ and number of negative documents (tweets) $D_{neg}$.\n",
        "- Calculate the probability that a document (tweet) is positive $P(D_{pos})$, and the probability that a document (tweet) is negative $P(D_{neg})$\n",
        "\n",
        "##### Calculate the logprior\n",
        "- the logprior is $log(D_{pos}) - log(D_{neg})$\n",
        "\n",
        "##### Calculate log likelihood\n",
        "- Finally, you can iterate over each word in the vocabulary, use your `lookup` function to get the positive frequencies, $freq_{pos}$, and the negative frequencies, $freq_{neg}$, for that specific word.\n",
        "- Compute the positive probability of each word $P(W_{pos})$, negative probability of each word $P(W_{neg})$ using equations 4 & 5.\n",
        "\n",
        "$$ P(W_{pos}) = \\frac{freq_{pos} + 1}{N_{pos} + V}\\tag{4} $$\n",
        "$$ P(W_{neg}) = \\frac{freq_{neg} + 1}{N_{neg} + V}\\tag{5} $$\n",
        "\n",
        "**Note:** We'll use a dictionary to store the log likelihoods for each word.  The key is the word, the value is the log likelihood of that word).\n",
        "\n",
        "- You can then compute the loglikelihood: $log \\left( \\frac{P(W_{pos})}{P(W_{neg})} \\right)\\tag{6}$."
      ]
    },
    {
      "cell_type": "code",
      "execution_count": 16,
      "metadata": {
        "id": "R0Mb85ucdHCF"
      },
      "outputs": [],
      "source": [
        "# UNQ_C2 (UNIQUE CELL IDENTIFIER, DO NOT EDIT)\n",
        "def train_naive_bayes(freqs, train_x, train_y):\n",
        "    '''\n",
        "    Input:\n",
        "        freqs: dictionary from (word, label) to how often the word appears\n",
        "        train_x: a list of tweets\n",
        "        train_y: a list of labels correponding to the tweets (0,1)\n",
        "    Output:\n",
        "        logprior: the log prior. (equation 3 above)\n",
        "        loglikelihood: the log likelihood of you Naive bayes equation. (equation 6 above)\n",
        "    '''\n",
        "    loglikelihood = {}\n",
        "    logprior = 0\n",
        "\n",
        "    ### START CODE HERE (REPLACE INSTANCES OF 'None' with your code) ###\n",
        "\n",
        "    # calculate V, the number of unique words in the vocabulary\n",
        "    vocab = set([pair[0] for pair in freqs.keys()])\n",
        "    V = len(vocab)\n",
        "\n",
        "    # calculate N_pos and N_neg\n",
        "    N_pos = N_neg = 0\n",
        "    dp=dn=0\n",
        "    for pair in freqs.keys():\n",
        "        # if the label is positive (greater than zero)\n",
        "        if pair[1] > 0:\n",
        "\n",
        "            # Increment the number of positive words by the count for this (word, label) pair\n",
        "            N_pos += freqs[pair]\n",
        "\n",
        "        # else, the label is negative\n",
        "        else:\n",
        "\n",
        "            # increment the number of negative words by the count for this (word,label) pair\n",
        "            N_neg += freqs[pair]\n",
        "\n",
        "    # Calculate D, the number of documents\n",
        "    D = len(train_x)\n",
        "    for i in range(D):\n",
        "      if train_y[i] >0:\n",
        "        dp+=1\n",
        "      else:\n",
        "        dn+=1\n",
        "\n",
        "\n",
        "    # Calculate D_pos, the number of positive documents (*hint: use sum(<np_array>))\n",
        "    D_pos = dp\n",
        "\n",
        "    # Calculate D_neg, the number of negative documents (*hint: compute using D and D_pos)\n",
        "    D_neg = dn\n",
        "\n",
        "    # Calculate logprior\n",
        "    logprior = np.log(D_pos)-np.log(D_neg)\n",
        "\n",
        "    # For each word in the vocabulary...\n",
        "    for word in vocab:\n",
        "      try:\n",
        "        # get the positive and negative frequency of the word\n",
        "        freq_pos = freqs[(word, 1)]\n",
        "        freq_neg = freqs[(word, 0)]\n",
        "\n",
        "        # calculate the probability that each word is positive, and negative\n",
        "        p_w_pos = (freq_pos+1)/(N_pos+V)\n",
        "        p_w_neg = (freq_neg+1)/(N_neg+V)\n",
        "\n",
        "        # calculate the log likelihood of the word\n",
        "        loglikelihood[word] = np.log(p_w_pos/p_w_neg)\n",
        "      except:\n",
        "        continue\n",
        "\n",
        "    ### END CODE HERE ###\n",
        "\n",
        "    return logprior, loglikelihood\n"
      ]
    },
    {
      "cell_type": "code",
      "execution_count": 17,
      "metadata": {
        "colab": {
          "base_uri": "https://localhost:8080/"
        },
        "id": "JEHqm1P3dHCG",
        "outputId": "1048cc00-d005-42ec-bc7f-12ae022b23c6"
      },
      "outputs": [
        {
          "output_type": "stream",
          "name": "stdout",
          "text": [
            "0.0\n",
            "2252\n"
          ]
        }
      ],
      "source": [
        "# UNQ_C3 (UNIQUE CELL IDENTIFIER, DO NOT EDIT)\n",
        "# You do not have to input any code in this cell, but it is relevant to grading, so please do not change anything\n",
        "logprior, loglikelihood = train_naive_bayes(freqs, train_x, train_y)\n",
        "print(logprior)\n",
        "print(len(loglikelihood))"
      ]
    },
    {
      "cell_type": "markdown",
      "metadata": {
        "id": "kS-bAaM9dHCG"
      },
      "source": [
        "**Expected Output**:\n",
        "\n",
        "0.0\n",
        "\n",
        "9089"
      ]
    },
    {
      "cell_type": "markdown",
      "metadata": {
        "id": "7AxrbQdadHCG"
      },
      "source": [
        "# Part 3: Test your naive bayes\n",
        "\n",
        "Now that we have the `logprior` and `loglikelihood`, we can test the naive bayes function by making predicting on some tweets!\n",
        "\n",
        "#### Implement `naive_bayes_predict`\n",
        "**Instructions**:\n",
        "Implement the `naive_bayes_predict` function to make predictions on tweets.\n",
        "* The function takes in the `tweet`, `logprior`, `loglikelihood`.\n",
        "* It returns the probability that the tweet belongs to the positive or negative class.\n",
        "* For each tweet, sum up loglikelihoods of each word in the tweet.\n",
        "* Also add the logprior to this sum to get the predicted sentiment of that tweet.\n",
        "\n",
        "$$ p = logprior + \\sum_i^N (loglikelihood_i)$$\n",
        "\n",
        "#### Note\n",
        "Note we calculate the prior from the training data, and that the training data is evenly split between positive and negative labels (4000 positive and 4000 negative tweets).  This means that the ratio of positive to negative 1, and the logprior is 0.\n",
        "\n",
        "The value of 0.0 means that when we add the logprior to the log likelihood, we're just adding zero to the log likelihood.  However, please remember to include the logprior, because whenever the data is not perfectly balanced, the logprior will be a non-zero value."
      ]
    },
    {
      "cell_type": "code",
      "execution_count": 18,
      "metadata": {
        "id": "1JcnBWLpdHCG"
      },
      "outputs": [],
      "source": [
        "# UNQ_C4 (UNIQUE CELL IDENTIFIER, DO NOT EDIT)\n",
        "def naive_bayes_predict(tweet, logprior, loglikelihood):\n",
        "    '''\n",
        "    Input:\n",
        "        tweet: a string\n",
        "        logprior: a number\n",
        "        loglikelihood: a dictionary of words mapping to numbers\n",
        "    Output:\n",
        "        p: the sum of all the logliklihoods of each word in the tweet (if found in the dictionary) + logprior (a number)\n",
        "\n",
        "    '''\n",
        "    ### START CODE HERE (REPLACE INSTANCES OF 'None' with your code) ###\n",
        "    # process the tweet to get a list of words\n",
        "    word_l = process_tweet(tweet)\n",
        "\n",
        "    # initialize probability to zero\n",
        "    p = 0\n",
        "\n",
        "    # add the logprior\n",
        "    p += logprior\n",
        "\n",
        "    for word in word_l:\n",
        "\n",
        "        # check if the word exists in the loglikelihood dictionary\n",
        "        if word in loglikelihood:\n",
        "            # add the log likelihood of that word to the probability\n",
        "            p += loglikelihood[word]\n",
        "\n",
        "    ### END CODE HERE ###\n",
        "\n",
        "    return p\n"
      ]
    },
    {
      "cell_type": "code",
      "execution_count": 19,
      "metadata": {
        "colab": {
          "base_uri": "https://localhost:8080/"
        },
        "id": "SJZTf_l9dHCG",
        "outputId": "0744841f-a317-4508-91d0-67a12fb3ec93"
      },
      "outputs": [
        {
          "output_type": "stream",
          "name": "stdout",
          "text": [
            "The expected output is 1.5737244858565678\n"
          ]
        }
      ],
      "source": [
        "# UNQ_C5 (UNIQUE CELL IDENTIFIER, DO NOT EDIT)\n",
        "# You do not have to input any code in this cell, but it is relevant to grading, so please do not change anything\n",
        "\n",
        "# Experiment with your own tweet.\n",
        "my_tweet = 'She smiled.'\n",
        "p = naive_bayes_predict(my_tweet, logprior, loglikelihood)\n",
        "print('The expected output is', p)"
      ]
    },
    {
      "cell_type": "markdown",
      "metadata": {
        "id": "mvJfA7QVdHCG"
      },
      "source": [
        "**Expected Output**:\n",
        "- The expected output is around 1.57\n",
        "- The sentiment is positive."
      ]
    },
    {
      "cell_type": "markdown",
      "metadata": {
        "id": "b1sOb6mrdHCG"
      },
      "source": [
        "#### Implement test_naive_bayes\n",
        "**Instructions**:\n",
        "* Implement `test_naive_bayes` to check the accuracy of your predictions.\n",
        "* The function takes in your `test_x`, `test_y`, log_prior, and loglikelihood\n",
        "* It returns the accuracy of your model.\n",
        "* First, use `naive_bayes_predict` function to make predictions for each tweet in text_x."
      ]
    },
    {
      "cell_type": "code",
      "execution_count": 20,
      "metadata": {
        "id": "fji0dXM6dHCH"
      },
      "outputs": [],
      "source": [
        "# UNQ_C6 (UNIQUE CELL IDENTIFIER, DO NOT EDIT)\n",
        "def test_naive_bayes(test_x, test_y, logprior, loglikelihood):\n",
        "    \"\"\"\n",
        "    Input:\n",
        "        test_x: A list of tweets\n",
        "        test_y: the corresponding labels for the list of tweets\n",
        "        logprior: the logprior\n",
        "        loglikelihood: a dictionary with the loglikelihoods for each word\n",
        "    Output:\n",
        "        accuracy: (# of tweets classified correctly)/(total # of tweets)\n",
        "    \"\"\"\n",
        "    accuracy = 0  # return this properly\n",
        "\n",
        "    ### START CODE HERE (REPLACE INSTANCES OF 'None' with your code) ###\n",
        "    y_hats = []\n",
        "    for tweet in test_x:\n",
        "        # if the prediction is > 0\n",
        "        if naive_bayes_predict(tweet, logprior, loglikelihood) > 0:\n",
        "            # the predicted class is 1\n",
        "            y_hat_i = 1\n",
        "        else:\n",
        "            # otherwise the predicted class is 0\n",
        "            y_hat_i = 0\n",
        "\n",
        "        # append the predicted class to the list y_hats\n",
        "        y_hats.append(y_hat_i)\n",
        "\n",
        "    # error is the average of the absolute values of the differences between y_hats and test_y array\n",
        "\n",
        "    error = np.mean(np.abs(y_hats - test_y))\n",
        "\n",
        "    # Accuracy is 1 minus the error\n",
        "    accuracy = 1-error\n",
        "\n",
        "    ### END CODE HERE ###\n",
        "\n",
        "    return accuracy\n"
      ]
    },
    {
      "cell_type": "code",
      "execution_count": 21,
      "metadata": {
        "colab": {
          "base_uri": "https://localhost:8080/"
        },
        "id": "mCSYvbl8dHCH",
        "outputId": "378c7c16-fc8e-40b1-a798-746f48fc6122"
      },
      "outputs": [
        {
          "output_type": "stream",
          "name": "stdout",
          "text": [
            "Naive Bayes accuracy = 0.9265\n"
          ]
        }
      ],
      "source": [
        "print(\"Naive Bayes accuracy = %0.4f\" %\n",
        "      (test_naive_bayes(test_x, test_y, logprior, loglikelihood)))"
      ]
    },
    {
      "cell_type": "markdown",
      "metadata": {
        "id": "nCQaWwyWdHCH"
      },
      "source": [
        "**Expected Accuracy**:\n",
        "\n",
        "0.9940"
      ]
    },
    {
      "cell_type": "code",
      "execution_count": 22,
      "metadata": {
        "colab": {
          "base_uri": "https://localhost:8080/"
        },
        "id": "Ry30Et9ddHCH",
        "outputId": "12da844a-a1e9-4859-a0aa-32a5267d8bd4"
      },
      "outputs": [
        {
          "output_type": "stream",
          "name": "stdout",
          "text": [
            "I am happy -> 2.15\n",
            "I am bad -> -1.29\n",
            "this movie should have been great. -> 2.14\n",
            "great -> 2.14\n",
            "great great -> 4.28\n",
            "great great great -> 6.41\n",
            "great great great great -> 8.55\n"
          ]
        }
      ],
      "source": [
        "# UNQ_C7 (UNIQUE CELL IDENTIFIER, DO NOT EDIT)\n",
        "# You do not have to input any code in this cell, but it is relevant to grading, so please do not change anything\n",
        "\n",
        "# Run this cell to test your function\n",
        "for tweet in ['I am happy', 'I am bad', 'this movie should have been great.', 'great', 'great great', 'great great great', 'great great great great']:\n",
        "    # print( '%s -> %f' % (tweet, naive_bayes_predict(tweet, logprior, loglikelihood)))\n",
        "    p = naive_bayes_predict(tweet, logprior, loglikelihood)\n",
        "#     print(f'{tweet} -> {p:.2f} ({p_category})')\n",
        "    print(f'{tweet} -> {p:.2f}')"
      ]
    },
    {
      "cell_type": "markdown",
      "metadata": {
        "id": "H8nvL82ndHCH"
      },
      "source": [
        "**Expected Output**:\n",
        "- I am happy -> 2.15\n",
        "- I am bad -> -1.29\n",
        "- this movie should have been great. -> 2.14\n",
        "- great -> 2.14\n",
        "- great great -> 4.28\n",
        "- great great great -> 6.41\n",
        "- great great great great -> 8.55"
      ]
    },
    {
      "cell_type": "code",
      "execution_count": 23,
      "metadata": {
        "colab": {
          "base_uri": "https://localhost:8080/"
        },
        "id": "wsWrMEn2dHCH",
        "outputId": "222d903c-a9d2-4e01-d981-153f07f37f73"
      },
      "outputs": [
        {
          "output_type": "execute_result",
          "data": {
            "text/plain": [
              "-8.80222939347889"
            ]
          },
          "metadata": {},
          "execution_count": 23
        }
      ],
      "source": [
        "# Feel free to check the sentiment of your own tweet below\n",
        "my_tweet = 'you are bad :('\n",
        "naive_bayes_predict(my_tweet, logprior, loglikelihood)"
      ]
    },
    {
      "cell_type": "markdown",
      "metadata": {
        "id": "AfJtIKpqdHCH"
      },
      "source": [
        "# Part 4: Filter words by Ratio of positive to negative counts\n",
        "\n",
        "- Some words have more positive counts than others, and can be considered \"more positive\".  Likewise, some words can be considered more negative than others.\n",
        "- One way for us to define the level of positiveness or negativeness, without calculating the log likelihood, is to compare the positive to negative frequency of the word.\n",
        "    - Note that we can also use the log likelihood calculations to compare relative positivity or negativity of words.\n",
        "- We can calculate the ratio of positive to negative frequencies of a word.\n",
        "- Once we're able to calculate these ratios, we can also filter a subset of words that have a minimum ratio of positivity / negativity or higher.\n",
        "- Similarly, we can also filter a subset of words that have a maximum ratio of positivity / negativity or lower (words that are at least as negative, or even more negative than a given threshold).\n",
        "\n",
        "#### Implement `get_ratio()`\n",
        "- Given the `freqs` dictionary of words and a particular word, use `lookup(freqs,word,1)` to get the positive count of the word.\n",
        "- Similarly, use the `lookup()` function to get the negative count of that word.\n",
        "- Calculate the ratio of positive divided by negative counts\n",
        "\n",
        "$$ ratio = \\frac{\\text{pos_words} + 1}{\\text{neg_words} + 1} $$\n",
        "\n",
        "Where pos_words and neg_words correspond to the frequency of the words in their respective classes.\n",
        "<table>\n",
        "    <tr>\n",
        "        <td>\n",
        "            <b>Words</b>\n",
        "        </td>\n",
        "        <td>\n",
        "        Positive word count\n",
        "        </td>\n",
        "         <td>\n",
        "        Negative Word Count\n",
        "        </td>\n",
        "  </tr>\n",
        "    <tr>\n",
        "        <td>\n",
        "        glad\n",
        "        </td>\n",
        "         <td>\n",
        "        41\n",
        "        </td>\n",
        "    <td>\n",
        "        2\n",
        "        </td>\n",
        "  </tr>\n",
        "    <tr>\n",
        "        <td>\n",
        "        arriv\n",
        "        </td>\n",
        "         <td>\n",
        "        57\n",
        "        </td>\n",
        "    <td>\n",
        "        4\n",
        "        </td>\n",
        "  </tr>\n",
        "    <tr>\n",
        "        <td>\n",
        "        :(\n",
        "        </td>\n",
        "         <td>\n",
        "        1\n",
        "        </td>\n",
        "    <td>\n",
        "        3663\n",
        "        </td>\n",
        "  </tr>\n",
        "    <tr>\n",
        "        <td>\n",
        "        :-(\n",
        "        </td>\n",
        "         <td>\n",
        "        0\n",
        "        </td>\n",
        "    <td>\n",
        "        378\n",
        "        </td>\n",
        "  </tr>\n",
        "</table>"
      ]
    },
    {
      "cell_type": "code",
      "execution_count": 29,
      "metadata": {
        "id": "Bu-66IJfdHCI"
      },
      "outputs": [],
      "source": [
        "# UNQ_C8 (UNIQUE CELL IDENTIFIER, DO NOT EDIT)\n",
        "def get_ratio(freqs, word):\n",
        "    '''\n",
        "    Input:\n",
        "        freqs: dictionary containing the words\n",
        "        word: string to lookup\n",
        "\n",
        "    Output: a dictionary with keys 'positive', 'negative', and 'ratio'.\n",
        "        Example: {'positive': 10, 'negative': 20, 'ratio': 0.5}\n",
        "    '''\n",
        "    try:\n",
        "      pos_neg_ratio = {'positive': 0, 'negative': 0, 'ratio': 0.0}\n",
        "      ### START CODE HERE (REPLACE INSTANCES OF 'None' with your code) ###\n",
        "      # use lookup() to find positive counts for the word (denoted by the integer 1)\n",
        "      pos_neg_ratio['positive'] = freqs[(word,1)]\n",
        "\n",
        "      # use lookup() to find negative counts for the word (denoted by integer 0)\n",
        "      pos_neg_ratio['negative'] = freqs[(word,0)]\n",
        "\n",
        "      # calculate the ratio of positive to negative counts for the word\n",
        "      pos_neg_ratio['ratio'] = freqs[(word,1)]/freqs[(word,0)]\n",
        "      ### END CODE HERE ###\n",
        "    except:\n",
        "      return\n",
        "    return pos_neg_ratio\n"
      ]
    },
    {
      "cell_type": "code",
      "execution_count": 30,
      "metadata": {
        "colab": {
          "base_uri": "https://localhost:8080/"
        },
        "id": "YrOTITvTdHCI",
        "outputId": "df4cefed-21b0-40cc-f197-7be706a1a241"
      },
      "outputs": [
        {
          "output_type": "execute_result",
          "data": {
            "text/plain": [
              "{'positive': 161, 'negative': 18, 'ratio': 8.944444444444445}"
            ]
          },
          "metadata": {},
          "execution_count": 30
        }
      ],
      "source": [
        "get_ratio(freqs, 'happi')"
      ]
    },
    {
      "cell_type": "markdown",
      "metadata": {
        "id": "tjiorGUudHCI"
      },
      "source": [
        "#### Implement `get_words_by_threshold(freqs,label,threshold)`\n",
        "\n",
        "* If we set the label to 1, then we'll look for all words whose threshold of positive/negative is at least as high as that threshold, or higher.\n",
        "* If we set the label to 0, then we'll look for all words whose threshold of positive/negative is at most as low as the given threshold, or lower.\n",
        "* Use the `get_ratio()` function to get a dictionary containing the positive count, negative count, and the ratio of positive to negative counts.\n",
        "* Append a dictionary to a list, where the key is the word, and the dictionary is the dictionary `pos_neg_ratio` that is returned by the `get_ratio()` function.\n",
        "An example key-value pair would have this structure:\n",
        "```\n",
        "{'happi':\n",
        "    {'positive': 10, 'negative': 20, 'ratio': 0.5}\n",
        "}\n",
        "```"
      ]
    },
    {
      "cell_type": "code",
      "execution_count": 39,
      "metadata": {
        "id": "HXqkaCNMdHCI"
      },
      "outputs": [],
      "source": [
        "# UNQ_C9 (UNIQUE CELL IDENTIFIER, DO NOT EDIT)\n",
        "def get_words_by_threshold(freqs, label, threshold):\n",
        "    '''\n",
        "    Input:\n",
        "        freqs: dictionary of words\n",
        "        label: 1 for positive, 0 for negative\n",
        "        threshold: ratio that will be used as the cutoff for including a word in the returned dictionary\n",
        "    Output:\n",
        "        word_set: dictionary containing the word and information on its positive count, negative count, and ratio of positive to negative counts.\n",
        "        example of a key value pair:\n",
        "        {'happi':\n",
        "            {'positive': 10, 'negative': 20, 'ratio': 0.5}\n",
        "        }\n",
        "    '''\n",
        "    word_list = {}\n",
        "\n",
        "    ### START CODE HERE (REPLACE INSTANCES OF 'None' with your code) ###\n",
        "    for key in freqs.keys():\n",
        "        word, _ = key\n",
        "\n",
        "        # get the positive/negative ratio for a word\n",
        "        pos_neg_ratio = get_ratio(freqs,word)\n",
        "\n",
        "        # if the label is 1 and the ratio is greater than or equal to the threshold...\n",
        "        if label == 1 and pos_neg_ratio is not None and pos_neg_ratio['ratio'] >= threshold:\n",
        "\n",
        "            # Add the pos_neg_ratio to the dictionary\n",
        "            word_list[word]=pos_neg_ratio\n",
        "\n",
        "        # If the label is 0 and the pos_neg_ratio is less than or equal to the threshold...\n",
        "        elif label == 0 and pos_neg_ratio is not None and pos_neg_ratio['ratio'] <= threshold:\n",
        "\n",
        "            # Add the pos_neg_ratio to the dictionary\n",
        "            word_list[word]= pos_neg_ratio\n",
        "\n",
        "        # otherwise, do not include this word in the list (do nothing)\n",
        "\n",
        "    ### END CODE HERE ###\n",
        "    return word_list\n"
      ]
    },
    {
      "cell_type": "code",
      "execution_count": 40,
      "metadata": {
        "colab": {
          "base_uri": "https://localhost:8080/"
        },
        "id": "jxr0WN1_dHCI",
        "outputId": "05cfde54-4e2b-494e-e32a-a0eb09e201d1"
      },
      "outputs": [
        {
          "output_type": "execute_result",
          "data": {
            "text/plain": [
              "{'sad': {'positive': 5, 'negative': 100, 'ratio': 0.05},\n",
              " 'ugh': {'positive': 1, 'negative': 23, 'ratio': 0.043478260869565216},\n",
              " 'sick': {'positive': 1, 'negative': 32, 'ratio': 0.03125},\n",
              " ':(': {'positive': 1, 'negative': 3663, 'ratio': 0.000273000273000273},\n",
              " 'x15': {'positive': 1, 'negative': 35, 'ratio': 0.02857142857142857}}"
            ]
          },
          "metadata": {},
          "execution_count": 40
        }
      ],
      "source": [
        "# Test your function: find negative words at or below a threshold\n",
        "get_words_by_threshold(freqs, label=0, threshold=0.05)"
      ]
    },
    {
      "cell_type": "code",
      "execution_count": 41,
      "metadata": {
        "colab": {
          "base_uri": "https://localhost:8080/"
        },
        "id": "tddMmu9-dHCQ",
        "outputId": "a551f102-a85e-4dc2-fd7a-58dc2b09ee34"
      },
      "outputs": [
        {
          "output_type": "execute_result",
          "data": {
            "text/plain": [
              "{'commun': {'positive': 27, 'negative': 1, 'ratio': 27.0},\n",
              " ':)': {'positive': 2847, 'negative': 2, 'ratio': 1423.5},\n",
              " 'friday': {'positive': 91, 'negative': 9, 'ratio': 10.11111111111111},\n",
              " 'opportun': {'positive': 17, 'negative': 1, 'ratio': 17.0},\n",
              " 'ad': {'positive': 10, 'negative': 1, 'ratio': 10.0},\n",
              " 'welcom': {'positive': 54, 'negative': 5, 'ratio': 10.8},\n",
              " 'arriv': {'positive': 57, 'negative': 4, 'ratio': 14.25},\n",
              " 'via': {'positive': 60, 'negative': 1, 'ratio': 60.0},\n",
              " 'appreci': {'positive': 28, 'negative': 2, 'ratio': 14.0},\n",
              " 'invit': {'positive': 15, 'negative': 1, 'ratio': 15.0},\n",
              " 'glad': {'positive': 41, 'negative': 2, 'ratio': 20.5},\n",
              " 'definit': {'positive': 20, 'negative': 2, 'ratio': 10.0},\n",
              " 'goodnight': {'positive': 18, 'negative': 1, 'ratio': 18.0},\n",
              " 'info': {'positive': 10, 'negative': 1, 'ratio': 10.0},\n",
              " 'ff': {'positive': 40, 'negative': 4, 'ratio': 10.0},\n",
              " 'thx': {'positive': 12, 'negative': 1, 'ratio': 12.0},\n",
              " '–': {'positive': 14, 'negative': 1, 'ratio': 14.0},\n",
              " 'follback': {'positive': 18, 'negative': 1, 'ratio': 18.0},\n",
              " 'coffe': {'positive': 10, 'negative': 1, 'ratio': 10.0}}"
            ]
          },
          "metadata": {},
          "execution_count": 41
        }
      ],
      "source": [
        "# Test your function; find positive words at or above a threshold\n",
        "get_words_by_threshold(freqs, label=1, threshold=10)"
      ]
    },
    {
      "cell_type": "markdown",
      "metadata": {
        "id": "-tCrnGAAdHCQ"
      },
      "source": [
        "Notice the difference between the positive and negative ratios. Emojis like :( and words like 'me' tend to have a negative connotation. Other words like 'glad', 'community', and 'arrives' tend to be found in the positive tweets."
      ]
    },
    {
      "cell_type": "markdown",
      "metadata": {
        "id": "Pb8E37PUdHCQ"
      },
      "source": [
        "# Part 5: Error Analysis\n",
        "\n",
        "In this part you will see some tweets that your model missclassified. Why do you think the misclassifications happened? Were there any assumptions made by the naive bayes model?"
      ]
    },
    {
      "cell_type": "code",
      "execution_count": 42,
      "metadata": {
        "colab": {
          "base_uri": "https://localhost:8080/"
        },
        "id": "5uRjfIlBdHCQ",
        "outputId": "64d2fc9a-5d43-462e-bb0e-da128125cacb"
      },
      "outputs": [
        {
          "output_type": "stream",
          "name": "stdout",
          "text": [
            "Truth Predicted Tweet\n",
            "1\t0.00\tb'awkward moment name akarshan end stay singl :d foreveralon'\n",
            "1\t0.00\tb'highfiv probabl ahead sinc less artsi verbal :d'\n",
            "1\t0.00\tb'kid kaaa :p'\n",
            "1\t0.00\tb'dat rp tho thank much guy celebr one month partnership ty raid :d'\n",
            "1\t0.00\tb'mayb garru liara rest crew :d'\n",
            "1\t0.00\tb'bore everyth :d'\n",
            "1\t0.00\tb''\n",
            "1\t0.00\tb'actual need stop tweet drive :-)'\n",
            "1\t0.00\tb'wish :d :d :d :d :d :d :d kid'\n",
            "1\t0.00\tb'sure would good thing 4 bottom dare 2 say 2 miss b im gonna stubborn mouth soap nothavingit :p'\n",
            "1\t0.00\tb'yeah kinda feel like warm butter :d'\n",
            "1\t0.00\tb'whenev sister see cri text ask im okay aw someon care :-)'\n",
            "1\t0.00\tb\"can't wait see :-)\"\n",
            "1\t0.00\tb'glyon :d'\n",
            "1\t0.00\tb\"know dumb think johnni rock u seen utub video' mad respect :d\"\n",
            "1\t0.00\tb\"i'v type wors thing good :p\"\n",
            "1\t0.00\tb'everi year august get fever :p dunno '\n",
            "1\t0.00\tb\"yeah classi look :-) i'v seen peopl attach sort life save equip bed fix 0\"\n",
            "1\t0.00\tb'im tri l mh3 english patch psp :d'\n",
            "1\t0.00\tb'safe :d'\n",
            "1\t0.00\tb'die actual pretti entertain :p'\n",
            "1\t0.00\tb'oh dang zen look outsid space neat :-)'\n",
            "1\t0.00\tb'new report talk burn calori cold work harder warm feel better weather :p'\n",
            "1\t0.00\tb'uhc box larg scale one network server :p'\n",
            "1\t0.00\tb'magnific :-)'\n",
            "1\t0.00\tb'cute boy jule :-)'\n",
            "1\t0.00\tb\"can't wait week :d\"\n",
            "1\t0.00\tb'oh shoot well watch :d'\n",
            "1\t0.00\tb'far lfc fan make expert spot mental weak lack consist :-)'\n",
            "1\t0.00\tb'ashramcal return :p'\n",
            "1\t0.00\tb'pinter :-)'\n",
            "1\t0.00\tb'cute :-) '\n",
            "1\t0.00\tb'hah ... thousand lie :d'\n",
            "1\t0.00\tb\"i'm friend cousin karen gunderson watch europa report thoroughli impress want say great script :-)\"\n",
            "1\t0.00\tb'hahaha ... thu ... sneak away log niteflirt :d'\n",
            "1\t0.00\tb\"yep we'r trash af im indonesia hbu :-)\"\n",
            "1\t0.00\tb\"here' remind need one :-)\"\n",
            "1\t0.00\tb'harri niall 94 harri born ik stupid wanna chang :d'\n",
            "1\t0.00\tb''\n",
            "1\t0.00\tb'deni vagina rli :d poor thing :d'\n",
            "1\t0.00\tb'lose :d'\n",
            "1\t0.00\tb\"meet harri that' need life :-)\"\n",
            "1\t0.00\tb'one sleep til wed :-)'\n",
            "1\t0.00\tb':-)'\n",
            "1\t0.00\tb'kid insid want one :-)'\n",
            "1\t0.00\tb'get 25ish snowbal :p'\n",
            "1\t0.00\tb'nd go expir next year dat mtn 6gb u :d realli like'\n",
            "1\t0.00\tb'wanna go back time everyth still fine :-)'\n",
            "1\t0.00\tb'slept less 7 hour last night prepar possibl nap :p'\n",
            "1\t0.00\tb'feel like relaps :-)'\n",
            "1\t0.00\tb'bad would remind exercis 1:12 :-) miss need come back'\n",
            "1\t0.00\tb'mont doa header :d'\n",
            "1\t0.00\tb'good morn :d lol realli fuckin dark gonna rain hard coupl minut'\n",
            "1\t0.00\tb'far lfc fan make expert spot mental weak lack consist :-)'\n",
            "1\t0.00\tb\"i'm amsterdam guy wooo :d\"\n",
            "1\t0.00\tb\"thought' kepler 452b :d\"\n",
            "1\t0.00\tb'gz :d name'\n",
            "1\t0.00\tb'guess sleep list thing today :-)'\n",
            "1\t0.00\tb'hah ... thousand lie :d'\n",
            "1\t0.00\tb'go room bc 3 :-)'\n",
            "1\t0.00\tb'final went drive tonight :-)'\n",
            "1\t0.00\tb'jeez tara move teamcannib vs teamspacewhalingisthebest :p'\n",
            "1\t0.00\tb'think hard bed :p'\n",
            "1\t0.00\tb'u mean hide fot :p'\n",
            "1\t0.00\tb'inde :-)'\n",
            "1\t0.00\tb\"hurt read people' holiday work :d\"\n",
            "1\t0.00\tb''\n",
            "1\t0.00\tb'thought work season realli busi day ok deal weekend toilet break :p'\n",
            "1\t0.00\tb'daddi af ... :-)'\n",
            "1\t0.00\tb\"easy.get 5:30 go work come home bout 6 take care home famili therein that' see :-)\"\n",
            "1\t0.00\tb'vote brainchild 3 time pleas may poem :d'\n",
            "1\t0.00\tb'nightli routin simpin :-)'\n",
            "1\t0.00\tb\"fell asleep like 6:30 can't fall asleep two hour :-)\"\n",
            "1\t0.00\tb'first leg tour go well :d music band rock magictrik tour'\n",
            "1\t0.00\tb'leo season :-)  '\n",
            "1\t0.00\tb'member   chanc :d'\n",
            "1\t0.00\tb'last class morn two week break :-)'\n",
            "1\t0.00\tb'even real word :d'\n",
            "1\t0.00\tb'could misread wors thing :p'\n",
            "1\t0.00\tb'yup happen everywher peopl cant debat come name call :-)'\n",
            "1\t0.00\tb\"that' true quit whenev want :d\"\n",
            "1\t0.00\tb'miss :-)'\n",
            "1\t0.00\tb'im wear mine dj next fri :-)'\n",
            "1\t0.00\tb\"i'm person workout eat healthi minut gain weight :-)\"\n",
            "1\t0.00\tb\"la class' :p\"\n",
            "1\t0.00\tb'hahaha go doug :-)'\n",
            "1\t0.00\tb'also mean imma go back twitter activ :d caus know everyon miss ;) xd'\n",
            "1\t0.00\tb\"oh gina busi :-) can't wait see hear xxx soproud\"\n",
            "1\t0.00\tb'want ft arianna :-)'\n",
            "1\t0.00\tb'teamwork right :d zitecofficestori'\n",
            "1\t0.00\tb'got bed yet :-)'\n",
            "1\t0.00\tb\"awww sige next time u know na punta kayo dun imma make sure na we'll go din :-)\"\n",
            "1\t0.00\tb'case .. facebook wall :p'\n",
            "1\t0.00\tb'home alon :d'\n",
            "1\t0.00\tb'far lfc fan make expert spot mental weak lack consist :-)'\n",
            "1\t0.00\tb'park get sunlight'\n",
            "1\t0.00\tb\"i'm insecur tonight :-)\"\n",
            "1\t0.00\tb'match day bitchesss real madrid vs man shitti :d'\n",
            "1\t0.00\tb'first love wanna fuck late night think got nut :-) v look ...'\n",
            "1\t0.00\tb\":d can't sleep need tri lay bed bore\"\n",
            "1\t0.00\tb'anoth note found camden town ... :d work'\n",
            "1\t0.00\tb'uff itna miss karhi thi ap :p'\n",
            "1\t0.00\tb'save live :-)'\n",
            "1\t0.00\tb'sometim :-)'\n",
            "1\t0.00\tb'nuf teas alreadi show us alien everyday seem get closer see alien cousin :-)'\n",
            "1\t0.00\tb'evolut :d'\n",
            "1\t0.00\tb'love airport :-) :-)'\n",
            "1\t0.00\tb'hah ... :d say sorri ...'\n",
            "1\t0.00\tb'be-shak :p'\n",
            "1\t0.00\tb'bad thing think weird face rad :-) thank though'\n",
            "1\t0.00\tb'make aliv make suffer make feel .. addict song alway sing karaok :-) ..'\n",
            "1\t0.00\tb'long feel comfort im gonna wear want mother haha ... sound nice ... :-)'\n",
            "1\t0.00\tb'time 2 parti :d'\n",
            "1\t0.00\tb'ps took 80-1 hope count :-)'\n",
            "1\t0.00\tb\"i'v done today watch law order svu love sick :-)\"\n",
            "1\t0.00\tb'lmao love berni :d'\n",
            "1\t0.00\tb\"ping i'm watch tl like hawk :d\"\n",
            "1\t0.00\tb\"cours i'v cite academ paper feel i'v arriv :-)\"\n",
            "1\t0.00\tb'beleaf u :-)'\n",
            "1\t0.00\tb'could say egg face :-)'\n",
            "0\t1.00\tb'realli hot :-('\n",
            "0\t1.00\tb\"imagin would shatter dream :-( we'll let colleagu know sb\"\n",
            "0\t1.00\tb'hello info possibl interest jonatha close join beti :( great'\n",
            "0\t1.00\tb'today  job anoth fack intel extra mega care get bent socket pin :-( pcgame pcupgrad'\n",
            "0\t1.00\tb'pci mine :-('\n",
            "0\t1.00\tb'drop dead fred use favorit movi wish :-('\n",
            "0\t1.00\tb'u prob fun david'\n",
            "0\t1.00\tb'happi birthday pleas come back singapor :-(                 '\n",
            "0\t1.00\tb'guy nooo :-( wow wow wow wow'\n",
            "0\t1.00\tb'love toothsensit :-('\n",
            "0\t1.00\tb'asian ummm mayb ur film child pornographi slutsham fake suicid ect :-('\n",
            "0\t1.00\tb'keep forget area :-( want visit next time xx'\n",
            "0\t1.00\tb'love warrior :-('\n",
            "0\t1.00\tb\"well i'm p 41 8 page note thu far :-( i'v read twice\"\n",
            "0\t1.00\tb'ok :-( w hahaahahahaha'\n",
            "0\t1.00\tb'got excit micha rt fave tweet creep :-('\n",
            "0\t1.00\tb'that push emoji give soni five :-( :-( :-( :-( :-( :-('\n",
            "0\t1.00\tb'cheer :-('\n",
            "0\t1.00\tb'worri :-('\n",
            "0\t1.00\tb'jessica call quit power ab 5:15 :-('\n",
            "0\t1.00\tb':-( challeng though pleas check fb page entri rather substitut thank'\n",
            "0\t1.00\tb'true :-('\n",
            "0\t1.00\tb'mood whole day :-('\n",
            "0\t1.00\tb'go home blue :-( back monday hiby social action plan shareyoursumm'\n",
            "0\t1.00\tb'midland ye thank depress weather forecast word rain mention sever time :-('\n",
            "0\t1.00\tb'like join marin :-('\n",
            "0\t1.00\tb'hull support expect misser week :-('\n"
          ]
        }
      ],
      "source": [
        "# Some error analysis done for you\n",
        "print('Truth Predicted Tweet')\n",
        "for x, y in zip(test_x, test_y):\n",
        "    y_hat = naive_bayes_predict(x, logprior, loglikelihood)\n",
        "    if y != (np.sign(y_hat) > 0):\n",
        "        print('%d\\t%0.2f\\t%s' % (y, np.sign(y_hat) > 0, ' '.join(\n",
        "            process_tweet(x)).encode('ascii', 'ignore')))"
      ]
    },
    {
      "cell_type": "markdown",
      "metadata": {
        "id": "ticOZMtKdHCQ"
      },
      "source": [
        "# Part 6: Predict with your own tweet\n",
        "\n",
        "In this part you can predict the sentiment of your own tweet."
      ]
    },
    {
      "cell_type": "code",
      "execution_count": 47,
      "metadata": {
        "colab": {
          "base_uri": "https://localhost:8080/"
        },
        "id": "H6e6VRsCdHCQ",
        "outputId": "fc67a7d3-8d7c-40af-cba4-7df3b54cc92e"
      },
      "outputs": [
        {
          "output_type": "stream",
          "name": "stdout",
          "text": [
            "0.6825765400845332\n"
          ]
        }
      ],
      "source": [
        "# Test with your own tweet - feel free to modify `my_tweet`\n",
        "my_tweet = 'windows are cold but happy'\n",
        "\n",
        "p = naive_bayes_predict(my_tweet, logprior, loglikelihood)\n",
        "print(p)"
      ]
    },
    {
      "cell_type": "markdown",
      "metadata": {
        "id": "bvgkhSFsdHCQ"
      },
      "source": [
        "Congratulations on completing this assignment. See you next week!"
      ]
    }
  ],
  "metadata": {
    "anaconda-cloud": {},
    "coursera": {
      "schema_names": [
        "NLPC1-2"
      ]
    },
    "kernelspec": {
      "display_name": "Python 3",
      "language": "python",
      "name": "python3"
    },
    "language_info": {
      "codemirror_mode": {
        "name": "ipython",
        "version": 3
      },
      "file_extension": ".py",
      "mimetype": "text/x-python",
      "name": "python",
      "nbconvert_exporter": "python",
      "pygments_lexer": "ipython3",
      "version": "3.7.1"
    },
    "colab": {
      "provenance": []
    }
  },
  "nbformat": 4,
  "nbformat_minor": 0
}